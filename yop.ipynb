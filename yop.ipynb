{
 "cells": [
  {
   "cell_type": "markdown",
   "metadata": {},
   "source": [
    "# Yop's part\n",
    "## Data Exploration"
   ]
  },
  {
   "cell_type": "code",
   "execution_count": 65,
   "metadata": {},
   "outputs": [],
   "source": [
    "#importing libraries \n",
    "import pandas as pd\n",
    "import numpy as np\n",
    "from matplotlib import pyplot as plt\n",
    "import seaborn as sns\n",
    "import tensorflow as ts\n"
   ]
  },
  {
   "cell_type": "code",
   "execution_count": 66,
   "metadata": {},
   "outputs": [],
   "source": [
    "train = pd.read_csv(\"data/train_images.csv\")\n",
    "test_samples = pd.read_csv(\"data/test_images_sample.csv\")"
   ]
  },
  {
   "cell_type": "code",
   "execution_count": 67,
   "metadata": {},
   "outputs": [
    {
     "data": {
      "text/html": [
       "<div>\n",
       "<style scoped>\n",
       "    .dataframe tbody tr th:only-of-type {\n",
       "        vertical-align: middle;\n",
       "    }\n",
       "\n",
       "    .dataframe tbody tr th {\n",
       "        vertical-align: top;\n",
       "    }\n",
       "\n",
       "    .dataframe thead th {\n",
       "        text-align: right;\n",
       "    }\n",
       "</style>\n",
       "<table border=\"1\" class=\"dataframe\">\n",
       "  <thead>\n",
       "    <tr style=\"text-align: right;\">\n",
       "      <th></th>\n",
       "      <th>id</th>\n",
       "      <th>label</th>\n",
       "    </tr>\n",
       "  </thead>\n",
       "  <tbody>\n",
       "    <tr>\n",
       "      <th>0</th>\n",
       "      <td>1</td>\n",
       "      <td>1</td>\n",
       "    </tr>\n",
       "    <tr>\n",
       "      <th>1</th>\n",
       "      <td>2</td>\n",
       "      <td>1</td>\n",
       "    </tr>\n",
       "    <tr>\n",
       "      <th>2</th>\n",
       "      <td>3</td>\n",
       "      <td>1</td>\n",
       "    </tr>\n",
       "    <tr>\n",
       "      <th>3</th>\n",
       "      <td>4</td>\n",
       "      <td>1</td>\n",
       "    </tr>\n",
       "    <tr>\n",
       "      <th>4</th>\n",
       "      <td>5</td>\n",
       "      <td>1</td>\n",
       "    </tr>\n",
       "    <tr>\n",
       "      <th>...</th>\n",
       "      <td>...</td>\n",
       "      <td>...</td>\n",
       "    </tr>\n",
       "    <tr>\n",
       "      <th>3995</th>\n",
       "      <td>3996</td>\n",
       "      <td>1</td>\n",
       "    </tr>\n",
       "    <tr>\n",
       "      <th>3996</th>\n",
       "      <td>3997</td>\n",
       "      <td>1</td>\n",
       "    </tr>\n",
       "    <tr>\n",
       "      <th>3997</th>\n",
       "      <td>3998</td>\n",
       "      <td>1</td>\n",
       "    </tr>\n",
       "    <tr>\n",
       "      <th>3998</th>\n",
       "      <td>3999</td>\n",
       "      <td>1</td>\n",
       "    </tr>\n",
       "    <tr>\n",
       "      <th>3999</th>\n",
       "      <td>4000</td>\n",
       "      <td>1</td>\n",
       "    </tr>\n",
       "  </tbody>\n",
       "</table>\n",
       "<p>4000 rows × 2 columns</p>\n",
       "</div>"
      ],
      "text/plain": [
       "        id  label\n",
       "0        1      1\n",
       "1        2      1\n",
       "2        3      1\n",
       "3        4      1\n",
       "4        5      1\n",
       "...    ...    ...\n",
       "3995  3996      1\n",
       "3996  3997      1\n",
       "3997  3998      1\n",
       "3998  3999      1\n",
       "3999  4000      1\n",
       "\n",
       "[4000 rows x 2 columns]"
      ]
     },
     "execution_count": 67,
     "metadata": {},
     "output_type": "execute_result"
    }
   ],
   "source": [
    "test_samples"
   ]
  },
  {
   "cell_type": "code",
   "execution_count": 68,
   "metadata": {},
   "outputs": [
    {
     "data": {
      "text/html": [
       "<div>\n",
       "<style scoped>\n",
       "    .dataframe tbody tr th:only-of-type {\n",
       "        vertical-align: middle;\n",
       "    }\n",
       "\n",
       "    .dataframe tbody tr th {\n",
       "        vertical-align: top;\n",
       "    }\n",
       "\n",
       "    .dataframe thead th {\n",
       "        text-align: right;\n",
       "    }\n",
       "</style>\n",
       "<table border=\"1\" class=\"dataframe\">\n",
       "  <thead>\n",
       "    <tr style=\"text-align: right;\">\n",
       "      <th></th>\n",
       "      <th>image_path</th>\n",
       "      <th>label</th>\n",
       "    </tr>\n",
       "  </thead>\n",
       "  <tbody>\n",
       "    <tr>\n",
       "      <th>0</th>\n",
       "      <td>/train_images/1.jpg</td>\n",
       "      <td>1</td>\n",
       "    </tr>\n",
       "    <tr>\n",
       "      <th>1</th>\n",
       "      <td>/train_images/2.jpg</td>\n",
       "      <td>1</td>\n",
       "    </tr>\n",
       "    <tr>\n",
       "      <th>2</th>\n",
       "      <td>/train_images/3.jpg</td>\n",
       "      <td>1</td>\n",
       "    </tr>\n",
       "    <tr>\n",
       "      <th>3</th>\n",
       "      <td>/train_images/4.jpg</td>\n",
       "      <td>1</td>\n",
       "    </tr>\n",
       "    <tr>\n",
       "      <th>4</th>\n",
       "      <td>/train_images/5.jpg</td>\n",
       "      <td>1</td>\n",
       "    </tr>\n",
       "    <tr>\n",
       "      <th>...</th>\n",
       "      <td>...</td>\n",
       "      <td>...</td>\n",
       "    </tr>\n",
       "    <tr>\n",
       "      <th>3921</th>\n",
       "      <td>/train_images/3922.jpg</td>\n",
       "      <td>200</td>\n",
       "    </tr>\n",
       "    <tr>\n",
       "      <th>3922</th>\n",
       "      <td>/train_images/3923.jpg</td>\n",
       "      <td>200</td>\n",
       "    </tr>\n",
       "    <tr>\n",
       "      <th>3923</th>\n",
       "      <td>/train_images/3924.jpg</td>\n",
       "      <td>200</td>\n",
       "    </tr>\n",
       "    <tr>\n",
       "      <th>3924</th>\n",
       "      <td>/train_images/3925.jpg</td>\n",
       "      <td>200</td>\n",
       "    </tr>\n",
       "    <tr>\n",
       "      <th>3925</th>\n",
       "      <td>/train_images/3926.jpg</td>\n",
       "      <td>200</td>\n",
       "    </tr>\n",
       "  </tbody>\n",
       "</table>\n",
       "<p>3926 rows × 2 columns</p>\n",
       "</div>"
      ],
      "text/plain": [
       "                  image_path  label\n",
       "0        /train_images/1.jpg      1\n",
       "1        /train_images/2.jpg      1\n",
       "2        /train_images/3.jpg      1\n",
       "3        /train_images/4.jpg      1\n",
       "4        /train_images/5.jpg      1\n",
       "...                      ...    ...\n",
       "3921  /train_images/3922.jpg    200\n",
       "3922  /train_images/3923.jpg    200\n",
       "3923  /train_images/3924.jpg    200\n",
       "3924  /train_images/3925.jpg    200\n",
       "3925  /train_images/3926.jpg    200\n",
       "\n",
       "[3926 rows x 2 columns]"
      ]
     },
     "execution_count": 68,
     "metadata": {},
     "output_type": "execute_result"
    }
   ],
   "source": [
    "train"
   ]
  },
  {
   "cell_type": "code",
   "execution_count": 69,
   "metadata": {},
   "outputs": [
    {
     "name": "stdout",
     "output_type": "stream",
     "text": [
      "Number of unique values in 'label': 200\n"
     ]
    }
   ],
   "source": [
    "unique_values_count = train['label'].nunique()\n",
    "\n",
    "print(f\"Number of unique values in 'label': {unique_values_count}\")"
   ]
  },
  {
   "cell_type": "code",
   "execution_count": 70,
   "metadata": {},
   "outputs": [],
   "source": [
    "loaded_class = np.load('data/class_names.npy', allow_pickle=True)"
   ]
  },
  {
   "cell_type": "code",
   "execution_count": 71,
   "metadata": {},
   "outputs": [
    {
     "data": {
      "text/plain": [
       "array({'001.Black_footed_Albatross': 1, '002.Laysan_Albatross': 2, '003.Sooty_Albatross': 3, '004.Groove_billed_Ani': 4, '005.Crested_Auklet': 5, '006.Least_Auklet': 6, '007.Parakeet_Auklet': 7, '008.Rhinoceros_Auklet': 8, '009.Brewer_Blackbird': 9, '010.Red_winged_Blackbird': 10, '011.Rusty_Blackbird': 11, '012.Yellow_headed_Blackbird': 12, '013.Bobolink': 13, '014.Indigo_Bunting': 14, '015.Lazuli_Bunting': 15, '016.Painted_Bunting': 16, '017.Cardinal': 17, '018.Spotted_Catbird': 18, '019.Gray_Catbird': 19, '020.Yellow_breasted_Chat': 20, '021.Eastern_Towhee': 21, '022.Chuck_will_Widow': 22, '023.Brandt_Cormorant': 23, '024.Red_faced_Cormorant': 24, '025.Pelagic_Cormorant': 25, '026.Bronzed_Cowbird': 26, '027.Shiny_Cowbird': 27, '028.Brown_Creeper': 28, '029.American_Crow': 29, '030.Fish_Crow': 30, '031.Black_billed_Cuckoo': 31, '032.Mangrove_Cuckoo': 32, '033.Yellow_billed_Cuckoo': 33, '034.Gray_crowned_Rosy_Finch': 34, '035.Purple_Finch': 35, '036.Northern_Flicker': 36, '037.Acadian_Flycatcher': 37, '038.Great_Crested_Flycatcher': 38, '039.Least_Flycatcher': 39, '040.Olive_sided_Flycatcher': 40, '041.Scissor_tailed_Flycatcher': 41, '042.Vermilion_Flycatcher': 42, '043.Yellow_bellied_Flycatcher': 43, '044.Frigatebird': 44, '045.Northern_Fulmar': 45, '046.Gadwall': 46, '047.American_Goldfinch': 47, '048.European_Goldfinch': 48, '049.Boat_tailed_Grackle': 49, '050.Eared_Grebe': 50, '051.Horned_Grebe': 51, '052.Pied_billed_Grebe': 52, '053.Western_Grebe': 53, '054.Blue_Grosbeak': 54, '055.Evening_Grosbeak': 55, '056.Pine_Grosbeak': 56, '057.Rose_breasted_Grosbeak': 57, '058.Pigeon_Guillemot': 58, '059.California_Gull': 59, '060.Glaucous_winged_Gull': 60, '061.Heermann_Gull': 61, '062.Herring_Gull': 62, '063.Ivory_Gull': 63, '064.Ring_billed_Gull': 64, '065.Slaty_backed_Gull': 65, '066.Western_Gull': 66, '067.Anna_Hummingbird': 67, '068.Ruby_throated_Hummingbird': 68, '069.Rufous_Hummingbird': 69, '070.Green_Violetear': 70, '071.Long_tailed_Jaeger': 71, '072.Pomarine_Jaeger': 72, '073.Blue_Jay': 73, '074.Florida_Jay': 74, '075.Green_Jay': 75, '076.Dark_eyed_Junco': 76, '077.Tropical_Kingbird': 77, '078.Gray_Kingbird': 78, '079.Belted_Kingfisher': 79, '080.Green_Kingfisher': 80, '081.Pied_Kingfisher': 81, '082.Ringed_Kingfisher': 82, '083.White_breasted_Kingfisher': 83, '084.Red_legged_Kittiwake': 84, '085.Horned_Lark': 85, '086.Pacific_Loon': 86, '087.Mallard': 87, '088.Western_Meadowlark': 88, '089.Hooded_Merganser': 89, '090.Red_breasted_Merganser': 90, '091.Mockingbird': 91, '092.Nighthawk': 92, '093.Clark_Nutcracker': 93, '094.White_breasted_Nuthatch': 94, '095.Baltimore_Oriole': 95, '096.Hooded_Oriole': 96, '097.Orchard_Oriole': 97, '098.Scott_Oriole': 98, '099.Ovenbird': 99, '100.Brown_Pelican': 100, '101.White_Pelican': 101, '102.Western_Wood_Pewee': 102, '103.Sayornis': 103, '104.American_Pipit': 104, '105.Whip_poor_Will': 105, '106.Horned_Puffin': 106, '107.Common_Raven': 107, '108.White_necked_Raven': 108, '109.American_Redstart': 109, '110.Geococcyx': 110, '111.Loggerhead_Shrike': 111, '112.Great_Grey_Shrike': 112, '113.Baird_Sparrow': 113, '114.Black_throated_Sparrow': 114, '115.Brewer_Sparrow': 115, '116.Chipping_Sparrow': 116, '117.Clay_colored_Sparrow': 117, '118.House_Sparrow': 118, '119.Field_Sparrow': 119, '120.Fox_Sparrow': 120, '121.Grasshopper_Sparrow': 121, '122.Harris_Sparrow': 122, '123.Henslow_Sparrow': 123, '124.Le_Conte_Sparrow': 124, '125.Lincoln_Sparrow': 125, '126.Nelson_Sharp_tailed_Sparrow': 126, '127.Savannah_Sparrow': 127, '128.Seaside_Sparrow': 128, '129.Song_Sparrow': 129, '130.Tree_Sparrow': 130, '131.Vesper_Sparrow': 131, '132.White_crowned_Sparrow': 132, '133.White_throated_Sparrow': 133, '134.Cape_Glossy_Starling': 134, '135.Bank_Swallow': 135, '136.Barn_Swallow': 136, '137.Cliff_Swallow': 137, '138.Tree_Swallow': 138, '139.Scarlet_Tanager': 139, '140.Summer_Tanager': 140, '141.Artic_Tern': 141, '142.Black_Tern': 142, '143.Caspian_Tern': 143, '144.Common_Tern': 144, '145.Elegant_Tern': 145, '146.Forsters_Tern': 146, '147.Least_Tern': 147, '148.Green_tailed_Towhee': 148, '149.Brown_Thrasher': 149, '150.Sage_Thrasher': 150, '151.Black_capped_Vireo': 151, '152.Blue_headed_Vireo': 152, '153.Philadelphia_Vireo': 153, '154.Red_eyed_Vireo': 154, '155.Warbling_Vireo': 155, '156.White_eyed_Vireo': 156, '157.Yellow_throated_Vireo': 157, '158.Bay_breasted_Warbler': 158, '159.Black_and_white_Warbler': 159, '160.Black_throated_Blue_Warbler': 160, '161.Blue_winged_Warbler': 161, '162.Canada_Warbler': 162, '163.Cape_May_Warbler': 163, '164.Cerulean_Warbler': 164, '165.Chestnut_sided_Warbler': 165, '166.Golden_winged_Warbler': 166, '167.Hooded_Warbler': 167, '168.Kentucky_Warbler': 168, '169.Magnolia_Warbler': 169, '170.Mourning_Warbler': 170, '171.Myrtle_Warbler': 171, '172.Nashville_Warbler': 172, '173.Orange_crowned_Warbler': 173, '174.Palm_Warbler': 174, '175.Pine_Warbler': 175, '176.Prairie_Warbler': 176, '177.Prothonotary_Warbler': 177, '178.Swainson_Warbler': 178, '179.Tennessee_Warbler': 179, '180.Wilson_Warbler': 180, '181.Worm_eating_Warbler': 181, '182.Yellow_Warbler': 182, '183.Northern_Waterthrush': 183, '184.Louisiana_Waterthrush': 184, '185.Bohemian_Waxwing': 185, '186.Cedar_Waxwing': 186, '187.American_Three_toed_Woodpecker': 187, '188.Pileated_Woodpecker': 188, '189.Red_bellied_Woodpecker': 189, '190.Red_cockaded_Woodpecker': 190, '191.Red_headed_Woodpecker': 191, '192.Downy_Woodpecker': 192, '193.Bewick_Wren': 193, '194.Cactus_Wren': 194, '195.Carolina_Wren': 195, '196.House_Wren': 196, '197.Marsh_Wren': 197, '198.Rock_Wren': 198, '199.Winter_Wren': 199, '200.Common_Yellowthroat': 200},\n",
       "      dtype=object)"
      ]
     },
     "execution_count": 71,
     "metadata": {},
     "output_type": "execute_result"
    }
   ],
   "source": [
    "loaded_class"
   ]
  },
  {
   "cell_type": "code",
   "execution_count": 72,
   "metadata": {},
   "outputs": [
    {
     "data": {
      "text/plain": [
       "{'001.Black_footed_Albatross': 1,\n",
       " '002.Laysan_Albatross': 2,\n",
       " '003.Sooty_Albatross': 3,\n",
       " '004.Groove_billed_Ani': 4,\n",
       " '005.Crested_Auklet': 5,\n",
       " '006.Least_Auklet': 6,\n",
       " '007.Parakeet_Auklet': 7,\n",
       " '008.Rhinoceros_Auklet': 8,\n",
       " '009.Brewer_Blackbird': 9,\n",
       " '010.Red_winged_Blackbird': 10,\n",
       " '011.Rusty_Blackbird': 11,\n",
       " '012.Yellow_headed_Blackbird': 12,\n",
       " '013.Bobolink': 13,\n",
       " '014.Indigo_Bunting': 14,\n",
       " '015.Lazuli_Bunting': 15,\n",
       " '016.Painted_Bunting': 16,\n",
       " '017.Cardinal': 17,\n",
       " '018.Spotted_Catbird': 18,\n",
       " '019.Gray_Catbird': 19,\n",
       " '020.Yellow_breasted_Chat': 20,\n",
       " '021.Eastern_Towhee': 21,\n",
       " '022.Chuck_will_Widow': 22,\n",
       " '023.Brandt_Cormorant': 23,\n",
       " '024.Red_faced_Cormorant': 24,\n",
       " '025.Pelagic_Cormorant': 25,\n",
       " '026.Bronzed_Cowbird': 26,\n",
       " '027.Shiny_Cowbird': 27,\n",
       " '028.Brown_Creeper': 28,\n",
       " '029.American_Crow': 29,\n",
       " '030.Fish_Crow': 30,\n",
       " '031.Black_billed_Cuckoo': 31,\n",
       " '032.Mangrove_Cuckoo': 32,\n",
       " '033.Yellow_billed_Cuckoo': 33,\n",
       " '034.Gray_crowned_Rosy_Finch': 34,\n",
       " '035.Purple_Finch': 35,\n",
       " '036.Northern_Flicker': 36,\n",
       " '037.Acadian_Flycatcher': 37,\n",
       " '038.Great_Crested_Flycatcher': 38,\n",
       " '039.Least_Flycatcher': 39,\n",
       " '040.Olive_sided_Flycatcher': 40,\n",
       " '041.Scissor_tailed_Flycatcher': 41,\n",
       " '042.Vermilion_Flycatcher': 42,\n",
       " '043.Yellow_bellied_Flycatcher': 43,\n",
       " '044.Frigatebird': 44,\n",
       " '045.Northern_Fulmar': 45,\n",
       " '046.Gadwall': 46,\n",
       " '047.American_Goldfinch': 47,\n",
       " '048.European_Goldfinch': 48,\n",
       " '049.Boat_tailed_Grackle': 49,\n",
       " '050.Eared_Grebe': 50,\n",
       " '051.Horned_Grebe': 51,\n",
       " '052.Pied_billed_Grebe': 52,\n",
       " '053.Western_Grebe': 53,\n",
       " '054.Blue_Grosbeak': 54,\n",
       " '055.Evening_Grosbeak': 55,\n",
       " '056.Pine_Grosbeak': 56,\n",
       " '057.Rose_breasted_Grosbeak': 57,\n",
       " '058.Pigeon_Guillemot': 58,\n",
       " '059.California_Gull': 59,\n",
       " '060.Glaucous_winged_Gull': 60,\n",
       " '061.Heermann_Gull': 61,\n",
       " '062.Herring_Gull': 62,\n",
       " '063.Ivory_Gull': 63,\n",
       " '064.Ring_billed_Gull': 64,\n",
       " '065.Slaty_backed_Gull': 65,\n",
       " '066.Western_Gull': 66,\n",
       " '067.Anna_Hummingbird': 67,\n",
       " '068.Ruby_throated_Hummingbird': 68,\n",
       " '069.Rufous_Hummingbird': 69,\n",
       " '070.Green_Violetear': 70,\n",
       " '071.Long_tailed_Jaeger': 71,\n",
       " '072.Pomarine_Jaeger': 72,\n",
       " '073.Blue_Jay': 73,\n",
       " '074.Florida_Jay': 74,\n",
       " '075.Green_Jay': 75,\n",
       " '076.Dark_eyed_Junco': 76,\n",
       " '077.Tropical_Kingbird': 77,\n",
       " '078.Gray_Kingbird': 78,\n",
       " '079.Belted_Kingfisher': 79,\n",
       " '080.Green_Kingfisher': 80,\n",
       " '081.Pied_Kingfisher': 81,\n",
       " '082.Ringed_Kingfisher': 82,\n",
       " '083.White_breasted_Kingfisher': 83,\n",
       " '084.Red_legged_Kittiwake': 84,\n",
       " '085.Horned_Lark': 85,\n",
       " '086.Pacific_Loon': 86,\n",
       " '087.Mallard': 87,\n",
       " '088.Western_Meadowlark': 88,\n",
       " '089.Hooded_Merganser': 89,\n",
       " '090.Red_breasted_Merganser': 90,\n",
       " '091.Mockingbird': 91,\n",
       " '092.Nighthawk': 92,\n",
       " '093.Clark_Nutcracker': 93,\n",
       " '094.White_breasted_Nuthatch': 94,\n",
       " '095.Baltimore_Oriole': 95,\n",
       " '096.Hooded_Oriole': 96,\n",
       " '097.Orchard_Oriole': 97,\n",
       " '098.Scott_Oriole': 98,\n",
       " '099.Ovenbird': 99,\n",
       " '100.Brown_Pelican': 100,\n",
       " '101.White_Pelican': 101,\n",
       " '102.Western_Wood_Pewee': 102,\n",
       " '103.Sayornis': 103,\n",
       " '104.American_Pipit': 104,\n",
       " '105.Whip_poor_Will': 105,\n",
       " '106.Horned_Puffin': 106,\n",
       " '107.Common_Raven': 107,\n",
       " '108.White_necked_Raven': 108,\n",
       " '109.American_Redstart': 109,\n",
       " '110.Geococcyx': 110,\n",
       " '111.Loggerhead_Shrike': 111,\n",
       " '112.Great_Grey_Shrike': 112,\n",
       " '113.Baird_Sparrow': 113,\n",
       " '114.Black_throated_Sparrow': 114,\n",
       " '115.Brewer_Sparrow': 115,\n",
       " '116.Chipping_Sparrow': 116,\n",
       " '117.Clay_colored_Sparrow': 117,\n",
       " '118.House_Sparrow': 118,\n",
       " '119.Field_Sparrow': 119,\n",
       " '120.Fox_Sparrow': 120,\n",
       " '121.Grasshopper_Sparrow': 121,\n",
       " '122.Harris_Sparrow': 122,\n",
       " '123.Henslow_Sparrow': 123,\n",
       " '124.Le_Conte_Sparrow': 124,\n",
       " '125.Lincoln_Sparrow': 125,\n",
       " '126.Nelson_Sharp_tailed_Sparrow': 126,\n",
       " '127.Savannah_Sparrow': 127,\n",
       " '128.Seaside_Sparrow': 128,\n",
       " '129.Song_Sparrow': 129,\n",
       " '130.Tree_Sparrow': 130,\n",
       " '131.Vesper_Sparrow': 131,\n",
       " '132.White_crowned_Sparrow': 132,\n",
       " '133.White_throated_Sparrow': 133,\n",
       " '134.Cape_Glossy_Starling': 134,\n",
       " '135.Bank_Swallow': 135,\n",
       " '136.Barn_Swallow': 136,\n",
       " '137.Cliff_Swallow': 137,\n",
       " '138.Tree_Swallow': 138,\n",
       " '139.Scarlet_Tanager': 139,\n",
       " '140.Summer_Tanager': 140,\n",
       " '141.Artic_Tern': 141,\n",
       " '142.Black_Tern': 142,\n",
       " '143.Caspian_Tern': 143,\n",
       " '144.Common_Tern': 144,\n",
       " '145.Elegant_Tern': 145,\n",
       " '146.Forsters_Tern': 146,\n",
       " '147.Least_Tern': 147,\n",
       " '148.Green_tailed_Towhee': 148,\n",
       " '149.Brown_Thrasher': 149,\n",
       " '150.Sage_Thrasher': 150,\n",
       " '151.Black_capped_Vireo': 151,\n",
       " '152.Blue_headed_Vireo': 152,\n",
       " '153.Philadelphia_Vireo': 153,\n",
       " '154.Red_eyed_Vireo': 154,\n",
       " '155.Warbling_Vireo': 155,\n",
       " '156.White_eyed_Vireo': 156,\n",
       " '157.Yellow_throated_Vireo': 157,\n",
       " '158.Bay_breasted_Warbler': 158,\n",
       " '159.Black_and_white_Warbler': 159,\n",
       " '160.Black_throated_Blue_Warbler': 160,\n",
       " '161.Blue_winged_Warbler': 161,\n",
       " '162.Canada_Warbler': 162,\n",
       " '163.Cape_May_Warbler': 163,\n",
       " '164.Cerulean_Warbler': 164,\n",
       " '165.Chestnut_sided_Warbler': 165,\n",
       " '166.Golden_winged_Warbler': 166,\n",
       " '167.Hooded_Warbler': 167,\n",
       " '168.Kentucky_Warbler': 168,\n",
       " '169.Magnolia_Warbler': 169,\n",
       " '170.Mourning_Warbler': 170,\n",
       " '171.Myrtle_Warbler': 171,\n",
       " '172.Nashville_Warbler': 172,\n",
       " '173.Orange_crowned_Warbler': 173,\n",
       " '174.Palm_Warbler': 174,\n",
       " '175.Pine_Warbler': 175,\n",
       " '176.Prairie_Warbler': 176,\n",
       " '177.Prothonotary_Warbler': 177,\n",
       " '178.Swainson_Warbler': 178,\n",
       " '179.Tennessee_Warbler': 179,\n",
       " '180.Wilson_Warbler': 180,\n",
       " '181.Worm_eating_Warbler': 181,\n",
       " '182.Yellow_Warbler': 182,\n",
       " '183.Northern_Waterthrush': 183,\n",
       " '184.Louisiana_Waterthrush': 184,\n",
       " '185.Bohemian_Waxwing': 185,\n",
       " '186.Cedar_Waxwing': 186,\n",
       " '187.American_Three_toed_Woodpecker': 187,\n",
       " '188.Pileated_Woodpecker': 188,\n",
       " '189.Red_bellied_Woodpecker': 189,\n",
       " '190.Red_cockaded_Woodpecker': 190,\n",
       " '191.Red_headed_Woodpecker': 191,\n",
       " '192.Downy_Woodpecker': 192,\n",
       " '193.Bewick_Wren': 193,\n",
       " '194.Cactus_Wren': 194,\n",
       " '195.Carolina_Wren': 195,\n",
       " '196.House_Wren': 196,\n",
       " '197.Marsh_Wren': 197,\n",
       " '198.Rock_Wren': 198,\n",
       " '199.Winter_Wren': 199,\n",
       " '200.Common_Yellowthroat': 200}"
      ]
     },
     "execution_count": 72,
     "metadata": {},
     "output_type": "execute_result"
    }
   ],
   "source": [
    "np.load(\"data/class_names.npy\", allow_pickle=True).item()\n"
   ]
  },
  {
   "cell_type": "code",
   "execution_count": null,
   "metadata": {},
   "outputs": [],
   "source": []
  },
  {
   "cell_type": "code",
   "execution_count": 73,
   "metadata": {},
   "outputs": [
    {
     "data": {
      "text/html": [
       "<div>\n",
       "<style scoped>\n",
       "    .dataframe tbody tr th:only-of-type {\n",
       "        vertical-align: middle;\n",
       "    }\n",
       "\n",
       "    .dataframe tbody tr th {\n",
       "        vertical-align: top;\n",
       "    }\n",
       "\n",
       "    .dataframe thead th {\n",
       "        text-align: right;\n",
       "    }\n",
       "</style>\n",
       "<table border=\"1\" class=\"dataframe\">\n",
       "  <thead>\n",
       "    <tr style=\"text-align: right;\">\n",
       "      <th></th>\n",
       "      <th>0</th>\n",
       "      <th>1</th>\n",
       "      <th>2</th>\n",
       "      <th>3</th>\n",
       "      <th>4</th>\n",
       "      <th>5</th>\n",
       "      <th>6</th>\n",
       "      <th>7</th>\n",
       "      <th>8</th>\n",
       "      <th>9</th>\n",
       "      <th>...</th>\n",
       "      <th>302</th>\n",
       "      <th>303</th>\n",
       "      <th>304</th>\n",
       "      <th>305</th>\n",
       "      <th>306</th>\n",
       "      <th>307</th>\n",
       "      <th>308</th>\n",
       "      <th>309</th>\n",
       "      <th>310</th>\n",
       "      <th>311</th>\n",
       "    </tr>\n",
       "  </thead>\n",
       "  <tbody>\n",
       "    <tr>\n",
       "      <th>0</th>\n",
       "      <td>0.010638</td>\n",
       "      <td>0.010638</td>\n",
       "      <td>0.007092</td>\n",
       "      <td>0.003546</td>\n",
       "      <td>0.138299</td>\n",
       "      <td>0.065603</td>\n",
       "      <td>0.000000</td>\n",
       "      <td>0.005319</td>\n",
       "      <td>0.000000</td>\n",
       "      <td>0.000000</td>\n",
       "      <td>...</td>\n",
       "      <td>0.000000</td>\n",
       "      <td>0.005439</td>\n",
       "      <td>0.005439</td>\n",
       "      <td>0.228446</td>\n",
       "      <td>0.000000</td>\n",
       "      <td>0.000000</td>\n",
       "      <td>0.186020</td>\n",
       "      <td>0.009186</td>\n",
       "      <td>0.025262</td>\n",
       "      <td>0.020669</td>\n",
       "    </tr>\n",
       "    <tr>\n",
       "      <th>1</th>\n",
       "      <td>0.000000</td>\n",
       "      <td>0.011332</td>\n",
       "      <td>0.009444</td>\n",
       "      <td>0.000000</td>\n",
       "      <td>0.202095</td>\n",
       "      <td>0.041552</td>\n",
       "      <td>0.015110</td>\n",
       "      <td>0.005666</td>\n",
       "      <td>0.000000</td>\n",
       "      <td>0.000000</td>\n",
       "      <td>...</td>\n",
       "      <td>0.006291</td>\n",
       "      <td>0.000000</td>\n",
       "      <td>0.111144</td>\n",
       "      <td>0.008388</td>\n",
       "      <td>0.000000</td>\n",
       "      <td>0.046135</td>\n",
       "      <td>0.202572</td>\n",
       "      <td>0.002665</td>\n",
       "      <td>0.021323</td>\n",
       "      <td>0.058639</td>\n",
       "    </tr>\n",
       "    <tr>\n",
       "      <th>2</th>\n",
       "      <td>0.000000</td>\n",
       "      <td>0.000000</td>\n",
       "      <td>0.007425</td>\n",
       "      <td>0.000000</td>\n",
       "      <td>0.002475</td>\n",
       "      <td>0.000000</td>\n",
       "      <td>0.000000</td>\n",
       "      <td>0.074247</td>\n",
       "      <td>0.146020</td>\n",
       "      <td>0.000000</td>\n",
       "      <td>...</td>\n",
       "      <td>0.000000</td>\n",
       "      <td>0.000000</td>\n",
       "      <td>0.190411</td>\n",
       "      <td>0.012555</td>\n",
       "      <td>0.000000</td>\n",
       "      <td>0.010462</td>\n",
       "      <td>0.203609</td>\n",
       "      <td>0.000000</td>\n",
       "      <td>0.008853</td>\n",
       "      <td>0.017705</td>\n",
       "    </tr>\n",
       "    <tr>\n",
       "      <th>3</th>\n",
       "      <td>0.000000</td>\n",
       "      <td>0.000000</td>\n",
       "      <td>0.003861</td>\n",
       "      <td>0.000000</td>\n",
       "      <td>0.003861</td>\n",
       "      <td>0.013514</td>\n",
       "      <td>0.005792</td>\n",
       "      <td>0.073360</td>\n",
       "      <td>0.138998</td>\n",
       "      <td>0.004127</td>\n",
       "      <td>...</td>\n",
       "      <td>0.004885</td>\n",
       "      <td>0.000000</td>\n",
       "      <td>0.190531</td>\n",
       "      <td>0.000000</td>\n",
       "      <td>0.000000</td>\n",
       "      <td>0.000000</td>\n",
       "      <td>0.152750</td>\n",
       "      <td>0.006840</td>\n",
       "      <td>0.036478</td>\n",
       "      <td>0.043317</td>\n",
       "    </tr>\n",
       "    <tr>\n",
       "      <th>4</th>\n",
       "      <td>0.000000</td>\n",
       "      <td>0.035088</td>\n",
       "      <td>0.000000</td>\n",
       "      <td>0.000000</td>\n",
       "      <td>0.000000</td>\n",
       "      <td>0.000000</td>\n",
       "      <td>0.102458</td>\n",
       "      <td>0.070177</td>\n",
       "      <td>0.000000</td>\n",
       "      <td>0.000000</td>\n",
       "      <td>...</td>\n",
       "      <td>0.000000</td>\n",
       "      <td>0.000000</td>\n",
       "      <td>0.204036</td>\n",
       "      <td>0.002458</td>\n",
       "      <td>0.002458</td>\n",
       "      <td>0.000000</td>\n",
       "      <td>0.031640</td>\n",
       "      <td>0.002751</td>\n",
       "      <td>0.015132</td>\n",
       "      <td>0.158200</td>\n",
       "    </tr>\n",
       "    <tr>\n",
       "      <th>...</th>\n",
       "      <td>...</td>\n",
       "      <td>...</td>\n",
       "      <td>...</td>\n",
       "      <td>...</td>\n",
       "      <td>...</td>\n",
       "      <td>...</td>\n",
       "      <td>...</td>\n",
       "      <td>...</td>\n",
       "      <td>...</td>\n",
       "      <td>...</td>\n",
       "      <td>...</td>\n",
       "      <td>...</td>\n",
       "      <td>...</td>\n",
       "      <td>...</td>\n",
       "      <td>...</td>\n",
       "      <td>...</td>\n",
       "      <td>...</td>\n",
       "      <td>...</td>\n",
       "      <td>...</td>\n",
       "      <td>...</td>\n",
       "      <td>...</td>\n",
       "    </tr>\n",
       "    <tr>\n",
       "      <th>195</th>\n",
       "      <td>0.000000</td>\n",
       "      <td>0.020881</td>\n",
       "      <td>0.000000</td>\n",
       "      <td>0.000000</td>\n",
       "      <td>0.000000</td>\n",
       "      <td>0.000000</td>\n",
       "      <td>0.208805</td>\n",
       "      <td>0.006425</td>\n",
       "      <td>0.000000</td>\n",
       "      <td>0.000000</td>\n",
       "      <td>...</td>\n",
       "      <td>0.000000</td>\n",
       "      <td>0.000000</td>\n",
       "      <td>0.041319</td>\n",
       "      <td>0.013281</td>\n",
       "      <td>0.000000</td>\n",
       "      <td>0.007378</td>\n",
       "      <td>0.222993</td>\n",
       "      <td>0.000000</td>\n",
       "      <td>0.002915</td>\n",
       "      <td>0.010202</td>\n",
       "    </tr>\n",
       "    <tr>\n",
       "      <th>196</th>\n",
       "      <td>0.003381</td>\n",
       "      <td>0.000000</td>\n",
       "      <td>0.003381</td>\n",
       "      <td>0.000000</td>\n",
       "      <td>0.008451</td>\n",
       "      <td>0.000000</td>\n",
       "      <td>0.098037</td>\n",
       "      <td>0.113250</td>\n",
       "      <td>0.005071</td>\n",
       "      <td>0.000000</td>\n",
       "      <td>...</td>\n",
       "      <td>0.003194</td>\n",
       "      <td>0.025553</td>\n",
       "      <td>0.009582</td>\n",
       "      <td>0.011179</td>\n",
       "      <td>0.051105</td>\n",
       "      <td>0.091031</td>\n",
       "      <td>0.036022</td>\n",
       "      <td>0.003431</td>\n",
       "      <td>0.039453</td>\n",
       "      <td>0.152665</td>\n",
       "    </tr>\n",
       "    <tr>\n",
       "      <th>197</th>\n",
       "      <td>0.000000</td>\n",
       "      <td>0.003350</td>\n",
       "      <td>0.000000</td>\n",
       "      <td>0.000000</td>\n",
       "      <td>0.003350</td>\n",
       "      <td>0.000000</td>\n",
       "      <td>0.093790</td>\n",
       "      <td>0.139011</td>\n",
       "      <td>0.001675</td>\n",
       "      <td>0.005359</td>\n",
       "      <td>...</td>\n",
       "      <td>0.000000</td>\n",
       "      <td>0.039706</td>\n",
       "      <td>0.000000</td>\n",
       "      <td>0.002941</td>\n",
       "      <td>0.008823</td>\n",
       "      <td>0.130882</td>\n",
       "      <td>0.085339</td>\n",
       "      <td>0.005566</td>\n",
       "      <td>0.000000</td>\n",
       "      <td>0.150271</td>\n",
       "    </tr>\n",
       "    <tr>\n",
       "      <th>198</th>\n",
       "      <td>0.000000</td>\n",
       "      <td>0.111841</td>\n",
       "      <td>0.000000</td>\n",
       "      <td>0.000000</td>\n",
       "      <td>0.000000</td>\n",
       "      <td>0.000000</td>\n",
       "      <td>0.093201</td>\n",
       "      <td>0.010167</td>\n",
       "      <td>0.000000</td>\n",
       "      <td>0.000000</td>\n",
       "      <td>...</td>\n",
       "      <td>0.000000</td>\n",
       "      <td>0.012767</td>\n",
       "      <td>0.173262</td>\n",
       "      <td>0.045595</td>\n",
       "      <td>0.000000</td>\n",
       "      <td>0.000000</td>\n",
       "      <td>0.056538</td>\n",
       "      <td>0.082072</td>\n",
       "      <td>0.058362</td>\n",
       "      <td>0.018238</td>\n",
       "    </tr>\n",
       "    <tr>\n",
       "      <th>199</th>\n",
       "      <td>0.043780</td>\n",
       "      <td>0.028144</td>\n",
       "      <td>0.000000</td>\n",
       "      <td>0.007818</td>\n",
       "      <td>0.000000</td>\n",
       "      <td>0.000000</td>\n",
       "      <td>0.145413</td>\n",
       "      <td>0.014072</td>\n",
       "      <td>0.000000</td>\n",
       "      <td>0.000000</td>\n",
       "      <td>...</td>\n",
       "      <td>0.000000</td>\n",
       "      <td>0.000000</td>\n",
       "      <td>0.084789</td>\n",
       "      <td>0.010599</td>\n",
       "      <td>0.000000</td>\n",
       "      <td>0.054508</td>\n",
       "      <td>0.040150</td>\n",
       "      <td>0.060225</td>\n",
       "      <td>0.076954</td>\n",
       "      <td>0.061898</td>\n",
       "    </tr>\n",
       "  </tbody>\n",
       "</table>\n",
       "<p>200 rows × 312 columns</p>\n",
       "</div>"
      ],
      "text/plain": [
       "          0         1         2         3         4         5         6    \\\n",
       "0    0.010638  0.010638  0.007092  0.003546  0.138299  0.065603  0.000000   \n",
       "1    0.000000  0.011332  0.009444  0.000000  0.202095  0.041552  0.015110   \n",
       "2    0.000000  0.000000  0.007425  0.000000  0.002475  0.000000  0.000000   \n",
       "3    0.000000  0.000000  0.003861  0.000000  0.003861  0.013514  0.005792   \n",
       "4    0.000000  0.035088  0.000000  0.000000  0.000000  0.000000  0.102458   \n",
       "..        ...       ...       ...       ...       ...       ...       ...   \n",
       "195  0.000000  0.020881  0.000000  0.000000  0.000000  0.000000  0.208805   \n",
       "196  0.003381  0.000000  0.003381  0.000000  0.008451  0.000000  0.098037   \n",
       "197  0.000000  0.003350  0.000000  0.000000  0.003350  0.000000  0.093790   \n",
       "198  0.000000  0.111841  0.000000  0.000000  0.000000  0.000000  0.093201   \n",
       "199  0.043780  0.028144  0.000000  0.007818  0.000000  0.000000  0.145413   \n",
       "\n",
       "          7         8         9    ...       302       303       304  \\\n",
       "0    0.005319  0.000000  0.000000  ...  0.000000  0.005439  0.005439   \n",
       "1    0.005666  0.000000  0.000000  ...  0.006291  0.000000  0.111144   \n",
       "2    0.074247  0.146020  0.000000  ...  0.000000  0.000000  0.190411   \n",
       "3    0.073360  0.138998  0.004127  ...  0.004885  0.000000  0.190531   \n",
       "4    0.070177  0.000000  0.000000  ...  0.000000  0.000000  0.204036   \n",
       "..        ...       ...       ...  ...       ...       ...       ...   \n",
       "195  0.006425  0.000000  0.000000  ...  0.000000  0.000000  0.041319   \n",
       "196  0.113250  0.005071  0.000000  ...  0.003194  0.025553  0.009582   \n",
       "197  0.139011  0.001675  0.005359  ...  0.000000  0.039706  0.000000   \n",
       "198  0.010167  0.000000  0.000000  ...  0.000000  0.012767  0.173262   \n",
       "199  0.014072  0.000000  0.000000  ...  0.000000  0.000000  0.084789   \n",
       "\n",
       "          305       306       307       308       309       310       311  \n",
       "0    0.228446  0.000000  0.000000  0.186020  0.009186  0.025262  0.020669  \n",
       "1    0.008388  0.000000  0.046135  0.202572  0.002665  0.021323  0.058639  \n",
       "2    0.012555  0.000000  0.010462  0.203609  0.000000  0.008853  0.017705  \n",
       "3    0.000000  0.000000  0.000000  0.152750  0.006840  0.036478  0.043317  \n",
       "4    0.002458  0.002458  0.000000  0.031640  0.002751  0.015132  0.158200  \n",
       "..        ...       ...       ...       ...       ...       ...       ...  \n",
       "195  0.013281  0.000000  0.007378  0.222993  0.000000  0.002915  0.010202  \n",
       "196  0.011179  0.051105  0.091031  0.036022  0.003431  0.039453  0.152665  \n",
       "197  0.002941  0.008823  0.130882  0.085339  0.005566  0.000000  0.150271  \n",
       "198  0.045595  0.000000  0.000000  0.056538  0.082072  0.058362  0.018238  \n",
       "199  0.010599  0.000000  0.054508  0.040150  0.060225  0.076954  0.061898  \n",
       "\n",
       "[200 rows x 312 columns]"
      ]
     },
     "execution_count": 73,
     "metadata": {},
     "output_type": "execute_result"
    }
   ],
   "source": [
    "pd.DataFrame(np.load(\"data/attributes.npy\", allow_pickle=True))\n"
   ]
  },
  {
   "cell_type": "markdown",
   "metadata": {},
   "source": [
    "## Data Preprocessing "
   ]
  },
  {
   "cell_type": "code",
   "execution_count": 74,
   "metadata": {},
   "outputs": [],
   "source": [
    "from torchvision import transforms"
   ]
  },
  {
   "cell_type": "code",
   "execution_count": 75,
   "metadata": {},
   "outputs": [],
   "source": [
    "resize_transform = transforms.Resize((224,224))\n",
    "normalize_transform = transforms.Normalize(mean = [0.485, 0.456, 0.406], std = [0.229, 0.224, 0.225])\n",
    "tensor_transform = transforms.ToTensor()"
   ]
  },
  {
   "cell_type": "markdown",
   "metadata": {},
   "source": [
    "(augumentation step)"
   ]
  },
  {
   "cell_type": "code",
   "execution_count": 76,
   "metadata": {},
   "outputs": [],
   "source": [
    "train_transform = transforms.Compose([\n",
    "    resize_transform,\n",
    "    tensor_transform,\n",
    "    normalize_transform\n",
    "]\n",
    ")"
   ]
  },
  {
   "cell_type": "code",
   "execution_count": 77,
   "metadata": {},
   "outputs": [],
   "source": [
    "from PIL import Image"
   ]
  },
  {
   "cell_type": "code",
   "execution_count": 78,
   "metadata": {},
   "outputs": [
    {
     "data": {
      "text/html": [
       "<div>\n",
       "<style scoped>\n",
       "    .dataframe tbody tr th:only-of-type {\n",
       "        vertical-align: middle;\n",
       "    }\n",
       "\n",
       "    .dataframe tbody tr th {\n",
       "        vertical-align: top;\n",
       "    }\n",
       "\n",
       "    .dataframe thead th {\n",
       "        text-align: right;\n",
       "    }\n",
       "</style>\n",
       "<table border=\"1\" class=\"dataframe\">\n",
       "  <thead>\n",
       "    <tr style=\"text-align: right;\">\n",
       "      <th></th>\n",
       "      <th>image_path</th>\n",
       "      <th>label</th>\n",
       "    </tr>\n",
       "  </thead>\n",
       "  <tbody>\n",
       "    <tr>\n",
       "      <th>0</th>\n",
       "      <td>/train_images/1.jpg</td>\n",
       "      <td>1</td>\n",
       "    </tr>\n",
       "    <tr>\n",
       "      <th>1</th>\n",
       "      <td>/train_images/2.jpg</td>\n",
       "      <td>1</td>\n",
       "    </tr>\n",
       "    <tr>\n",
       "      <th>2</th>\n",
       "      <td>/train_images/3.jpg</td>\n",
       "      <td>1</td>\n",
       "    </tr>\n",
       "    <tr>\n",
       "      <th>3</th>\n",
       "      <td>/train_images/4.jpg</td>\n",
       "      <td>1</td>\n",
       "    </tr>\n",
       "    <tr>\n",
       "      <th>4</th>\n",
       "      <td>/train_images/5.jpg</td>\n",
       "      <td>1</td>\n",
       "    </tr>\n",
       "  </tbody>\n",
       "</table>\n",
       "</div>"
      ],
      "text/plain": [
       "            image_path  label\n",
       "0  /train_images/1.jpg      1\n",
       "1  /train_images/2.jpg      1\n",
       "2  /train_images/3.jpg      1\n",
       "3  /train_images/4.jpg      1\n",
       "4  /train_images/5.jpg      1"
      ]
     },
     "execution_count": 78,
     "metadata": {},
     "output_type": "execute_result"
    }
   ],
   "source": [
    "train.head()"
   ]
  },
  {
   "cell_type": "code",
   "execution_count": 79,
   "metadata": {},
   "outputs": [],
   "source": [
    "processed_images = []\n",
    "labels = []\n",
    "\n",
    "for idx, row in train.iterrows():\n",
    "    image_path = row['image_path']\n",
    "    label = row['label'] - 1\n",
    "    \n",
    "    image = Image.open('data/'+image_path).convert('RGB')\n",
    "    \n",
    "    transformed_image = train_transform(image)\n",
    "    \n",
    "    processed_images.append(transformed_image)\n",
    "    labels.append(label)"
   ]
  },
  {
   "cell_type": "code",
   "execution_count": 80,
   "metadata": {},
   "outputs": [
    {
     "data": {
      "text/plain": [
       "3926"
      ]
     },
     "execution_count": 80,
     "metadata": {},
     "output_type": "execute_result"
    }
   ],
   "source": [
    "len(processed_images)"
   ]
  },
  {
   "cell_type": "code",
   "execution_count": 81,
   "metadata": {},
   "outputs": [],
   "source": [
    "import torch"
   ]
  },
  {
   "cell_type": "code",
   "execution_count": 82,
   "metadata": {},
   "outputs": [
    {
     "name": "stdout",
     "output_type": "stream",
     "text": [
      "torch.Size([3926, 3, 224, 224])\n",
      "torch.Size([3926])\n"
     ]
    }
   ],
   "source": [
    "\n",
    "# Stack images into a single tensor\n",
    "images_tensor = torch.stack(processed_images)  # Shape: [N, C, H, W]\n",
    "\n",
    "# Convert labels into a tensor\n",
    "labels_tensor = torch.tensor(labels)          # Shape: [N]\n",
    "\n",
    "print(images_tensor.shape)  # Verify the shape of the processed tensor\n",
    "print(labels_tensor.shape)"
   ]
  },
  {
   "cell_type": "code",
   "execution_count": 83,
   "metadata": {},
   "outputs": [],
   "source": [
    "from torch.utils.data import TensorDataset\n",
    "\n",
    "# Combine tensors into a dataset\n",
    "dataset = TensorDataset(images_tensor, labels_tensor)  # images_tensor and labels_tensor should already exist"
   ]
  },
  {
   "cell_type": "code",
   "execution_count": 84,
   "metadata": {},
   "outputs": [
    {
     "data": {
      "text/plain": [
       "<torch.utils.data.dataset.TensorDataset at 0x617af47a0>"
      ]
     },
     "execution_count": 84,
     "metadata": {},
     "output_type": "execute_result"
    }
   ],
   "source": [
    "dataset"
   ]
  },
  {
   "cell_type": "code",
   "execution_count": 85,
   "metadata": {},
   "outputs": [
    {
     "name": "stdout",
     "output_type": "stream",
     "text": [
      "Train Dataset Size: 3140\n",
      "Test Dataset Size: 786\n"
     ]
    }
   ],
   "source": [
    "from torch.utils.data import random_split\n",
    "\n",
    "# Assume `dataset` is your TensorDataset object\n",
    "dataset_size = len(dataset)\n",
    "train_size = int(0.8 * dataset_size)  # 80% for training\n",
    "test_size = dataset_size - train_size  # 20% for testing\n",
    "\n",
    "# Split the dataset\n",
    "train_dataset, test_dataset = random_split(dataset, [train_size, test_size])\n",
    "\n",
    "# Check the sizes\n",
    "print(f\"Train Dataset Size: {len(train_dataset)}\")\n",
    "print(f\"Test Dataset Size: {len(test_dataset)}\")\n"
   ]
  },
  {
   "cell_type": "code",
   "execution_count": 86,
   "metadata": {},
   "outputs": [],
   "source": [
    "from torch.utils.data import DataLoader\n",
    "\n",
    "# Define DataLoader\n",
    "batch_size = 32\n",
    "train_loader = DataLoader(train_dataset, batch_size=batch_size, shuffle=True)\n",
    "test_loader = DataLoader(test_dataset, batch_size=batch_size, shuffle=True)\n"
   ]
  },
  {
   "cell_type": "code",
   "execution_count": 54,
   "metadata": {},
   "outputs": [
    {
     "name": "stderr",
     "output_type": "stream",
     "text": [
      "/Users/yopxue/anaconda3/lib/python3.12/site-packages/torchvision/models/_utils.py:208: UserWarning: The parameter 'pretrained' is deprecated since 0.13 and may be removed in the future, please use 'weights' instead.\n",
      "  warnings.warn(\n",
      "/Users/yopxue/anaconda3/lib/python3.12/site-packages/torchvision/models/_utils.py:223: UserWarning: Arguments other than a weight enum or `None` for 'weights' are deprecated since 0.13 and may be removed in the future. The current behavior is equivalent to passing `weights=ResNet50_Weights.IMAGENET1K_V1`. You can also use `weights=ResNet50_Weights.DEFAULT` to get the most up-to-date weights.\n",
      "  warnings.warn(msg)\n"
     ]
    }
   ],
   "source": [
    "import torch.nn as nn\n",
    "from torchvision import models\n",
    "\n",
    "# Load a pre-trained ResNet50 model\n",
    "model = models.resnet50(pretrained=True)\n",
    "\n",
    "# Replace the final fully connected layer for your number of classes\n",
    "num_classes = len(set(labels_tensor.numpy())) # Number of unique labels\n",
    "model.fc = nn.Linear(model.fc.in_features, num_classes)\n",
    "\n",
    "# Move model to GPU if available\n",
    "device = torch.device(\"cuda\" if torch.cuda.is_available() else \"cpu\")\n",
    "model = model.to(device)\n"
   ]
  },
  {
   "cell_type": "code",
   "execution_count": 88,
   "metadata": {},
   "outputs": [],
   "source": [
    "import torch.optim as optim\n",
    "\n",
    "# Define loss function\n",
    "criterion = nn.CrossEntropyLoss()\n",
    "\n",
    "# Define optimizer\n",
    "optimizer = optim.Adam(model.parameters(), lr=0.001)\n"
   ]
  },
  {
   "cell_type": "code",
   "execution_count": 89,
   "metadata": {},
   "outputs": [
    {
     "name": "stderr",
     "output_type": "stream",
     "text": [
      "100%|██████████| 99/99 [07:25<00:00,  4.50s/it]\n"
     ]
    },
    {
     "name": "stdout",
     "output_type": "stream",
     "text": [
      "Epoch [1/10], Loss: 4.1044\n"
     ]
    },
    {
     "name": "stderr",
     "output_type": "stream",
     "text": [
      "100%|██████████| 99/99 [07:16<00:00,  4.41s/it]\n"
     ]
    },
    {
     "name": "stdout",
     "output_type": "stream",
     "text": [
      "Epoch [2/10], Loss: 3.8504\n"
     ]
    },
    {
     "name": "stderr",
     "output_type": "stream",
     "text": [
      "100%|██████████| 99/99 [07:20<00:00,  4.45s/it]\n"
     ]
    },
    {
     "name": "stdout",
     "output_type": "stream",
     "text": [
      "Epoch [3/10], Loss: 3.7419\n"
     ]
    },
    {
     "name": "stderr",
     "output_type": "stream",
     "text": [
      "100%|██████████| 99/99 [07:28<00:00,  4.53s/it]\n"
     ]
    },
    {
     "name": "stdout",
     "output_type": "stream",
     "text": [
      "Epoch [4/10], Loss: 3.7021\n"
     ]
    },
    {
     "name": "stderr",
     "output_type": "stream",
     "text": [
      "100%|██████████| 99/99 [07:27<00:00,  4.52s/it]\n"
     ]
    },
    {
     "name": "stdout",
     "output_type": "stream",
     "text": [
      "Epoch [5/10], Loss: 3.4809\n"
     ]
    },
    {
     "name": "stderr",
     "output_type": "stream",
     "text": [
      "100%|██████████| 99/99 [07:22<00:00,  4.47s/it]\n"
     ]
    },
    {
     "name": "stdout",
     "output_type": "stream",
     "text": [
      "Epoch [6/10], Loss: 3.2850\n"
     ]
    },
    {
     "name": "stderr",
     "output_type": "stream",
     "text": [
      "100%|██████████| 99/99 [07:21<00:00,  4.46s/it]\n"
     ]
    },
    {
     "name": "stdout",
     "output_type": "stream",
     "text": [
      "Epoch [7/10], Loss: 3.0585\n"
     ]
    },
    {
     "name": "stderr",
     "output_type": "stream",
     "text": [
      "100%|██████████| 99/99 [07:19<00:00,  4.44s/it]\n"
     ]
    },
    {
     "name": "stdout",
     "output_type": "stream",
     "text": [
      "Epoch [8/10], Loss: 2.8885\n"
     ]
    },
    {
     "name": "stderr",
     "output_type": "stream",
     "text": [
      "100%|██████████| 99/99 [07:23<00:00,  4.48s/it]\n"
     ]
    },
    {
     "name": "stdout",
     "output_type": "stream",
     "text": [
      "Epoch [9/10], Loss: 2.6915\n"
     ]
    },
    {
     "name": "stderr",
     "output_type": "stream",
     "text": [
      "100%|██████████| 99/99 [07:14<00:00,  4.39s/it]"
     ]
    },
    {
     "name": "stdout",
     "output_type": "stream",
     "text": [
      "Epoch [10/10], Loss: 2.4731\n"
     ]
    },
    {
     "name": "stderr",
     "output_type": "stream",
     "text": [
      "\n"
     ]
    }
   ],
   "source": [
    "from tqdm import tqdm\n",
    "\n",
    "# Training loop\n",
    "num_epochs = 10\n",
    "\n",
    "for epoch in range(num_epochs):\n",
    "    model.train()  # Set model to training mode\n",
    "    running_loss = 0.0\n",
    "    \n",
    "    for images, labels in tqdm(train_loader):\n",
    "        images, labels = images.to(device), labels.to(device)\n",
    "\n",
    "        # Forward pass\n",
    "        outputs = model(images)\n",
    "        loss = criterion(outputs, labels)\n",
    "\n",
    "        # Backward pass and optimization\n",
    "        optimizer.zero_grad()\n",
    "        loss.backward()\n",
    "        optimizer.step()\n",
    "\n",
    "        running_loss += loss.item()\n",
    "    \n",
    "    print(f\"Epoch [{epoch+1}/{num_epochs}], Loss: {running_loss/len(train_loader):.4f}\")\n"
   ]
  },
  {
   "cell_type": "code",
   "execution_count": 90,
   "metadata": {},
   "outputs": [],
   "source": [
    "torch.save(model.state_dict(), 'bird_classifier.pth')"
   ]
  },
  {
   "cell_type": "code",
   "execution_count": 91,
   "metadata": {},
   "outputs": [],
   "source": [
    "def evaluate(model, test_loader):\n",
    "    model.eval()\n",
    "    correct = 0\n",
    "    total = 0\n",
    "    with torch.no_grad():\n",
    "        for images, labels in test_loader:\n",
    "            images, labels = images.to(device), labels.to(device)\n",
    "            outputs = model(images)\n",
    "            _, predicted = torch.max(outputs, 1)\n",
    "            correct += (predicted == labels).sum().item()\n",
    "            total += labels.size(0)\n",
    "    print(f\"Test Accuracy: {100 * correct / total:.2f}%\")"
   ]
  },
  {
   "cell_type": "code",
   "execution_count": null,
   "metadata": {},
   "outputs": [],
   "source": [
    "#create the test_loader by loading the test_images \n"
   ]
  },
  {
   "cell_type": "code",
   "execution_count": 92,
   "metadata": {},
   "outputs": [
    {
     "name": "stderr",
     "output_type": "stream",
     "text": [
      "/var/folders/48/mbwsxq_56yb1p350h_q4pv_80000gn/T/ipykernel_17265/2645553830.py:2: FutureWarning: You are using `torch.load` with `weights_only=False` (the current default value), which uses the default pickle module implicitly. It is possible to construct malicious pickle data which will execute arbitrary code during unpickling (See https://github.com/pytorch/pytorch/blob/main/SECURITY.md#untrusted-models for more details). In a future release, the default value for `weights_only` will be flipped to `True`. This limits the functions that could be executed during unpickling. Arbitrary objects will no longer be allowed to be loaded via this mode unless they are explicitly allowlisted by the user via `torch.serialization.add_safe_globals`. We recommend you start setting `weights_only=True` for any use case where you don't have full control of the loaded file. Please open an issue on GitHub for any issues related to this experimental feature.\n",
      "  model.load_state_dict(torch.load('bird_classifier.pth'))\n"
     ]
    },
    {
     "name": "stdout",
     "output_type": "stream",
     "text": [
      "Test Accuracy: 13.99%\n"
     ]
    }
   ],
   "source": [
    "# Load the saved model and evaluate\n",
    "model.load_state_dict(torch.load('bird_classifier.pth'))\n",
    "evaluate(model, test_loader)"
   ]
  }
 ],
 "metadata": {
  "kernelspec": {
   "display_name": "base",
   "language": "python",
   "name": "python3"
  },
  "language_info": {
   "codemirror_mode": {
    "name": "ipython",
    "version": 3
   },
   "file_extension": ".py",
   "mimetype": "text/x-python",
   "name": "python",
   "nbconvert_exporter": "python",
   "pygments_lexer": "ipython3",
   "version": "3.12.7"
  }
 },
 "nbformat": 4,
 "nbformat_minor": 2
}
